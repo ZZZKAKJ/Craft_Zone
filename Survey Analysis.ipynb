{
 "cells": [
  {
   "cell_type": "code",
   "execution_count": 1,
   "id": "204ccc92",
   "metadata": {},
   "outputs": [],
   "source": [
    "import pandas as pd"
   ]
  },
  {
   "cell_type": "code",
   "execution_count": 2,
   "id": "2d384d3f",
   "metadata": {},
   "outputs": [],
   "source": [
    "data = pd.read_excel('Craft Zones Studio Survey (Responses).xlsx')"
   ]
  },
  {
   "cell_type": "code",
   "execution_count": 14,
   "id": "6a9c72a7",
   "metadata": {},
   "outputs": [
    {
     "data": {
      "text/html": [
       "<div>\n",
       "<style scoped>\n",
       "    .dataframe tbody tr th:only-of-type {\n",
       "        vertical-align: middle;\n",
       "    }\n",
       "\n",
       "    .dataframe tbody tr th {\n",
       "        vertical-align: top;\n",
       "    }\n",
       "\n",
       "    .dataframe thead th {\n",
       "        text-align: right;\n",
       "    }\n",
       "</style>\n",
       "<table border=\"1\" class=\"dataframe\">\n",
       "  <thead>\n",
       "    <tr style=\"text-align: right;\">\n",
       "      <th></th>\n",
       "      <th>Timestamp</th>\n",
       "      <th>Email Address</th>\n",
       "      <th>Gender</th>\n",
       "      <th>Which category below includes your age?</th>\n",
       "      <th>Are you currently pursuing a degree in college?</th>\n",
       "      <th>Which neighborhood do you live in Boston?</th>\n",
       "      <th>Which area do you live in the above neighborhood?</th>\n",
       "      <th>Which channels do you use most frequently?</th>\n",
       "      <th>What brings you to Craft Zone today?</th>\n",
       "      <th>If you are here with your kids, what is your kids pursuing?</th>\n",
       "    </tr>\n",
       "  </thead>\n",
       "  <tbody>\n",
       "    <tr>\n",
       "      <th>0</th>\n",
       "      <td>2023-06-17 21:55:57.251</td>\n",
       "      <td>natalyaaxo@gmail.com</td>\n",
       "      <td>Female</td>\n",
       "      <td>25 - 30</td>\n",
       "      <td>Not student</td>\n",
       "      <td>Mission Hill</td>\n",
       "      <td>Yeah</td>\n",
       "      <td>Tiktok</td>\n",
       "      <td>sisters birthday</td>\n",
       "      <td>Kindergarten</td>\n",
       "    </tr>\n",
       "    <tr>\n",
       "      <th>1</th>\n",
       "      <td>2023-06-17 22:00:54.380</td>\n",
       "      <td>angelynach34@gmail.com</td>\n",
       "      <td>Female</td>\n",
       "      <td>25 - 30</td>\n",
       "      <td>Not student</td>\n",
       "      <td>Rhode island</td>\n",
       "      <td>NaN</td>\n",
       "      <td>Tiktok, Youtube, Instagram</td>\n",
       "      <td>Create DIY gifting</td>\n",
       "      <td>NaN</td>\n",
       "    </tr>\n",
       "    <tr>\n",
       "      <th>2</th>\n",
       "      <td>2023-06-18 13:00:25.902</td>\n",
       "      <td>audzhang678@gmail.com</td>\n",
       "      <td>Female</td>\n",
       "      <td>25 - 30</td>\n",
       "      <td>Bachlor Degree</td>\n",
       "      <td>South Boston</td>\n",
       "      <td>NaN</td>\n",
       "      <td>Instagram, Wechat 公众号, 小红书</td>\n",
       "      <td>Experience crafting</td>\n",
       "      <td>NaN</td>\n",
       "    </tr>\n",
       "    <tr>\n",
       "      <th>3</th>\n",
       "      <td>2023-06-18 17:55:58.731</td>\n",
       "      <td>Sarom88@gmail.com</td>\n",
       "      <td>Female</td>\n",
       "      <td>31 - 40</td>\n",
       "      <td>Not student</td>\n",
       "      <td>South Shore</td>\n",
       "      <td>Weymouth</td>\n",
       "      <td>Instagram</td>\n",
       "      <td>Experience crafting</td>\n",
       "      <td>NaN</td>\n",
       "    </tr>\n",
       "    <tr>\n",
       "      <th>4</th>\n",
       "      <td>2023-06-18 17:56:16.919</td>\n",
       "      <td>yormychitran@gmail.com</td>\n",
       "      <td>Female</td>\n",
       "      <td>31 - 40</td>\n",
       "      <td>Working</td>\n",
       "      <td>Weymouth</td>\n",
       "      <td>Weymouth</td>\n",
       "      <td>Instagram</td>\n",
       "      <td>Experience crafting</td>\n",
       "      <td>NaN</td>\n",
       "    </tr>\n",
       "  </tbody>\n",
       "</table>\n",
       "</div>"
      ],
      "text/plain": [
       "                Timestamp           Email Address  Gender  \\\n",
       "0 2023-06-17 21:55:57.251    natalyaaxo@gmail.com  Female   \n",
       "1 2023-06-17 22:00:54.380  angelynach34@gmail.com  Female   \n",
       "2 2023-06-18 13:00:25.902   audzhang678@gmail.com  Female   \n",
       "3 2023-06-18 17:55:58.731       Sarom88@gmail.com  Female   \n",
       "4 2023-06-18 17:56:16.919  yormychitran@gmail.com  Female   \n",
       "\n",
       "  Which category below includes your age?  \\\n",
       "0                                 25 - 30   \n",
       "1                                 25 - 30   \n",
       "2                                 25 - 30   \n",
       "3                                 31 - 40   \n",
       "4                                 31 - 40   \n",
       "\n",
       "  Are you currently pursuing a degree in college?  \\\n",
       "0                                     Not student   \n",
       "1                                     Not student   \n",
       "2                                  Bachlor Degree   \n",
       "3                                     Not student   \n",
       "4                                         Working   \n",
       "\n",
       "  Which neighborhood do you live in Boston?  \\\n",
       "0                              Mission Hill   \n",
       "1                              Rhode island   \n",
       "2                              South Boston   \n",
       "3                               South Shore   \n",
       "4                                  Weymouth   \n",
       "\n",
       "  Which area do you live in the above neighborhood?  \\\n",
       "0                                              Yeah   \n",
       "1                                               NaN   \n",
       "2                                               NaN   \n",
       "3                                          Weymouth   \n",
       "4                                          Weymouth   \n",
       "\n",
       "  Which channels do you use most frequently?  \\\n",
       "0                                     Tiktok   \n",
       "1                 Tiktok, Youtube, Instagram   \n",
       "2                 Instagram, Wechat 公众号, 小红书   \n",
       "3                                  Instagram   \n",
       "4                                  Instagram   \n",
       "\n",
       "  What brings you to Craft Zone today?  \\\n",
       "0                    sisters birthday    \n",
       "1                   Create DIY gifting   \n",
       "2                  Experience crafting   \n",
       "3                  Experience crafting   \n",
       "4                  Experience crafting   \n",
       "\n",
       "  If you are here with your kids, what is your kids pursuing?  \n",
       "0                                       Kindergarten           \n",
       "1                                                NaN           \n",
       "2                                                NaN           \n",
       "3                                                NaN           \n",
       "4                                                NaN           "
      ]
     },
     "execution_count": 14,
     "metadata": {},
     "output_type": "execute_result"
    }
   ],
   "source": [
    "data.head()"
   ]
  },
  {
   "cell_type": "code",
   "execution_count": 4,
   "id": "a57b0aeb",
   "metadata": {},
   "outputs": [],
   "source": [
    "email_list = list(data['Email Address'])"
   ]
  },
  {
   "cell_type": "code",
   "execution_count": 5,
   "id": "03fab96e",
   "metadata": {},
   "outputs": [],
   "source": [
    "email_type = []\n",
    "for email in email_list:\n",
    "    types = email.split('@')[1]\n",
    "    email_type.append(types)"
   ]
  },
  {
   "cell_type": "code",
   "execution_count": 6,
   "id": "a46201e6",
   "metadata": {},
   "outputs": [
    {
     "data": {
      "text/plain": [
       "Counter({'gmail.com': 31,\n",
       "         'outlook.com': 1,\n",
       "         'icloud.com': 1,\n",
       "         'yahoo.com': 1,\n",
       "         'wellesley.edu': 1,\n",
       "         'hotmail.com': 1})"
      ]
     },
     "execution_count": 6,
     "metadata": {},
     "output_type": "execute_result"
    }
   ],
   "source": [
    "from collections import Counter\n",
    "Counter(email_type)"
   ]
  },
  {
   "cell_type": "code",
   "execution_count": 7,
   "id": "a645c8b0",
   "metadata": {},
   "outputs": [],
   "source": [
    "location = list(data['Which neighborhood do you live in Boston?'])"
   ]
  },
  {
   "cell_type": "markdown",
   "id": "41322c69",
   "metadata": {},
   "source": [
    "Counter({'Mission Hill': 3,\n",
    "         'Rhode island': 1,\n",
    "         'South Boston': 1,\n",
    "         'Weymouth': 1,\n",
    "         'Allston': 1,\n",
    "         'Lexington ': 2,\n",
    "         'Fenway': 2,\n",
    "         'Newton': 3,\n",
    "         'Jamaican Plain': 2,\n",
    "         'Chicago': 1,\n",
    "         'Dorchester': 3,\n",
    "         'Cambridge': 2,\n",
    "         'Brockton': 1,\n",
    "         'Southshore ': 2,\n",
    "         'Northborough ': 1,\n",
    "         'Lynn': 1,\n",
    "         'Out of state': 1,\n",
    "         'Back Bay': 1,\n",
    "         'North End': 1,\n",
    "         'Brookline': 1,\n",
    "         'Waltham': 2,\n",
    "         'Not Boston, Attleboro': 1,\n",
    "         'Chinatown': 1,\n",
    "         'Neither': 1})"
   ]
  },
  {
   "cell_type": "markdown",
   "id": "10b52bfb",
   "metadata": {},
   "source": [
    "location=['Rhode island',\n",
    " 'Dorchester, Boston, MA',\n",
    " 'Mission Hill',\n",
    " 'Allston',\n",
    " 'Jamaica Plain, MA',\n",
    " 'Newton, Boston, MA',\n",
    " 'Brookline',\n",
    " 'Brockton',\n",
    " 'Chinatown, Boston, MA',\n",
    " 'Chicago',\n",
    " 'North End',\n",
    " 'Cambridge, Boston, MA',\n",
    " 'Lexington, Boston, MA ',\n",
    " 'Northborough, MA ',\n",
    " 'South Shore Hospital, MA ',\n",
    " 'Waltham,MA',\n",
    " 'Weymouth, Boston, MA',\n",
    " 'Lynn, Boston, MA',\n",
    " 'Fenway',\n",
    " 'South Boston',\n",
    " 'Attleboro',\n",
    " 'Back Bay']"
   ]
  },
  {
   "cell_type": "code",
   "execution_count": 8,
   "id": "e8d94ade",
   "metadata": {},
   "outputs": [],
   "source": [
    "import folium\n",
    "from geopy.geocoders import Nominatim"
   ]
  },
  {
   "cell_type": "code",
   "execution_count": 10,
   "id": "b78fad5e",
   "metadata": {},
   "outputs": [],
   "source": [
    "ll = geolocator.geocode(location[0])"
   ]
  },
  {
   "cell_type": "code",
   "execution_count": 9,
   "id": "87c87fb6",
   "metadata": {},
   "outputs": [
    {
     "ename": "AttributeError",
     "evalue": "'NoneType' object has no attribute 'latitude'",
     "output_type": "error",
     "traceback": [
      "\u001b[1;31m---------------------------------------------------------------------------\u001b[0m",
      "\u001b[1;31mAttributeError\u001b[0m                            Traceback (most recent call last)",
      "\u001b[1;32m~\\AppData\\Local\\Temp/ipykernel_25728/154164602.py\u001b[0m in \u001b[0;36m<module>\u001b[1;34m\u001b[0m\n\u001b[0;32m      7\u001b[0m     \u001b[0mll\u001b[0m \u001b[1;33m=\u001b[0m \u001b[0mgeolocator\u001b[0m\u001b[1;33m.\u001b[0m\u001b[0mgeocode\u001b[0m\u001b[1;33m(\u001b[0m\u001b[0mi\u001b[0m\u001b[1;33m)\u001b[0m\u001b[1;33m\u001b[0m\u001b[1;33m\u001b[0m\u001b[0m\n\u001b[0;32m      8\u001b[0m     \u001b[0mneibor\u001b[0m\u001b[1;33m.\u001b[0m\u001b[0mappend\u001b[0m\u001b[1;33m(\u001b[0m\u001b[0mi\u001b[0m\u001b[1;33m)\u001b[0m\u001b[1;33m\u001b[0m\u001b[1;33m\u001b[0m\u001b[0m\n\u001b[1;32m----> 9\u001b[1;33m     \u001b[0mlat\u001b[0m\u001b[1;33m.\u001b[0m\u001b[0mappend\u001b[0m\u001b[1;33m(\u001b[0m\u001b[0mll\u001b[0m\u001b[1;33m.\u001b[0m\u001b[0mlatitude\u001b[0m\u001b[1;33m)\u001b[0m\u001b[1;33m\u001b[0m\u001b[1;33m\u001b[0m\u001b[0m\n\u001b[0m\u001b[0;32m     10\u001b[0m     \u001b[0mlong\u001b[0m\u001b[1;33m.\u001b[0m\u001b[0mappend\u001b[0m\u001b[1;33m(\u001b[0m\u001b[0mll\u001b[0m\u001b[1;33m.\u001b[0m\u001b[0mlongitude\u001b[0m\u001b[1;33m)\u001b[0m\u001b[1;33m\u001b[0m\u001b[1;33m\u001b[0m\u001b[0m\n\u001b[0;32m     11\u001b[0m res = pd.DataFrame({'neibor':neibor,\n",
      "\u001b[1;31mAttributeError\u001b[0m: 'NoneType' object has no attribute 'latitude'"
     ]
    }
   ],
   "source": [
    "neibor = []\n",
    "lat = []\n",
    "long = []\n",
    "geolocator = Nominatim(user_agent=\"MyApp\")\n",
    "\n",
    "for i in location:\n",
    "    ll = geolocator.geocode(i)\n",
    "    neibor.append(i)\n",
    "    lat.append(ll.latitude)\n",
    "    long.append(ll.longitude)\n",
    "res = pd.DataFrame({'neibor':neibor,\n",
    "                    'lat':lat,\n",
    "                    'long':long})"
   ]
  },
  {
   "cell_type": "code",
   "execution_count": null,
   "id": "9ef0b978",
   "metadata": {},
   "outputs": [],
   "source": [
    "res"
   ]
  },
  {
   "cell_type": "code",
   "execution_count": null,
   "id": "e27fc92a",
   "metadata": {},
   "outputs": [],
   "source": [
    "res = res.append({'neibor': 'Mission Hill No2', 'lat': 42.333265, 'long': -71.105029}, ignore_index=True)\n",
    "res = res.append({'neibor': 'Mission Hill No3', 'lat': 42.333265, 'long': -71.099029}, ignore_index=True)\n",
    "res = res.append({'neibor': 'Newton No2', 'lat': 42.340382, 'long': -71.078783}, ignore_index=True)\n",
    "res = res.append({'neibor': 'Newton No3', 'lat': 42.340382, 'long': -71.072783}, ignore_index=True)\n",
    "res = res.append({'neibor': 'Dorchester No2', 'lat': 42.297320, 'long': -71.071495}, ignore_index=True)\n",
    "res = res.append({'neibor': 'Dorchester No3', 'lat': 42.297320, 'long': -71.077495}, ignore_index=True)\n",
    "\n",
    "res = res.append({'neibor': 'Lexington No2', 'lat': 42.381341, 'long': -71.025156}, ignore_index=True) \n",
    "res = res.append({'neibor': 'Fenway No2', 'lat': 42.345187, 'long': -71.101599}, ignore_index=True) \n",
    "res = res.append({'neibor': 'Jamaican Plain No2', 'lat': 42.311605, 'long': -71.111384}, ignore_index=True) \n",
    "res = res.append({'neibor': 'Cambridge No2', 'lat': 42.381391, 'long': -71.075664}, ignore_index=True)\n",
    "res = res.append({'neibor': 'Southshore No2', 'lat': 42.175540, 'long': -70.956915}, ignore_index=True)\n",
    "res = res.append({'neibor': 'Waltham No2', 'lat': 42.375640, 'long': -71.238800}, ignore_index=True) "
   ]
  },
  {
   "cell_type": "code",
   "execution_count": null,
   "id": "95b139ff",
   "metadata": {},
   "outputs": [],
   "source": [
    "#import folium\n",
    "\n",
    "# Create a map centered around a specific location (e.g., New York City)\n",
    "map_center = [42, -71]\n",
    "map_zoom = 7\n",
    "\n",
    "# Create the map object\n",
    "m = folium.Map(location=map_center, zoom_start=map_zoom)\n",
    "\n",
    "# Add a marker at a specific location (e.g., Times Square in NYC)\n",
    "marker_location = [res.lat[0], res.long[0]]\n",
    "folium.Marker(location=marker_location, popup=res.neibor[0]).add_to(m)\n",
    "\n",
    "# Add a popup with information at another location (e.g., Statue of Liberty in NYC)\n",
    "for i in range(1,35):\n",
    "    popup_location = [res.lat[i], res.long[i]]\n",
    "    popup_content = res.neibor[i]\n",
    "    folium.Popup(popup_content).add_to(folium.Marker(location=popup_location).add_to(m))\n",
    "\n",
    "\n",
    "# Save the map to an HTML file\n",
    "m.save('interactive_map.html')\n"
   ]
  },
  {
   "cell_type": "code",
   "execution_count": null,
   "id": "da7ab64f",
   "metadata": {},
   "outputs": [],
   "source": [
    "res"
   ]
  },
  {
   "cell_type": "code",
   "execution_count": null,
   "id": "6a525c3d",
   "metadata": {},
   "outputs": [],
   "source": []
  }
 ],
 "metadata": {
  "kernelspec": {
   "display_name": "Python 3 (ipykernel)",
   "language": "python",
   "name": "python3"
  },
  "language_info": {
   "codemirror_mode": {
    "name": "ipython",
    "version": 3
   },
   "file_extension": ".py",
   "mimetype": "text/x-python",
   "name": "python",
   "nbconvert_exporter": "python",
   "pygments_lexer": "ipython3",
   "version": "3.9.7"
  }
 },
 "nbformat": 4,
 "nbformat_minor": 5
}
